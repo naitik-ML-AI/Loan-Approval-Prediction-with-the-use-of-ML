{
 "cells": [
  {
   "cell_type": "markdown",
   "id": "690c2c1a",
   "metadata": {},
   "source": [
    "# Loan Approval Prediction using Machine Learning  \n",
    "\n",
    "## Introduction  \n",
    "\n",
    "Loan approval plays a vital role in the financial sector, where banks and institutions must evaluate whether an applicant is eligible for credit. Traditionally, this decision relies on analyzing multiple factors such as income, employment status, loan amount, credit history, and property details.  \n",
    "\n",
    "In this project, I worked with a dataset of loan applications to develop a predictive model that can automatically classify whether a loan should be approved or not. The workflow includes data preprocessing, exploratory data analysis (EDA), visualization, and machine learning model training. The objective is to provide a reliable, data-driven solution that can assist financial institutions in making fair, quick, and accurate loan approval decisions.  \n",
    "\n",
    "\n",
    "name - Naitik Sharma \n",
    "\n",
    "\n",
    "\n",
    "email - naitik28sharma@gmail.com\n",
    "\n",
    "\n",
    "\n",
    "\n",
    "linkdin - www.linkedin.com/in/naitik-sharma-54627335a"
   ]
  },
  {
   "cell_type": "code",
   "execution_count": null,
   "id": "a12653d7",
   "metadata": {},
   "outputs": [],
   "source": [
    "import pandas as pd\n",
    "\n",
    "data = pd.read_csv(r\"F:\\SKILL FOR FUTURE\\loan_prediction.csv\")\n",
    "print(data.head())\n"
   ]
  },
  {
   "cell_type": "code",
   "execution_count": null,
   "id": "61b95895",
   "metadata": {},
   "outputs": [],
   "source": [
    "df.isnull().sum()"
   ]
  },
  {
   "cell_type": "code",
   "execution_count": null,
   "id": "2673f060",
   "metadata": {},
   "outputs": [],
   "source": [
    "print(df.describe())"
   ]
  },
  {
   "cell_type": "code",
   "execution_count": null,
   "id": "9ef1c09a",
   "metadata": {},
   "outputs": [],
   "source": [
    "# Fill missing values in categorical columns with mode\n",
    "df['Gender'].fillna(df['Gender'].mode()[0], inplace=True)\n",
    "df['Married'].fillna(df['Married'].mode()[0], inplace=True)\n",
    "df['Dependents'].fillna(df['Dependents'].mode()[0], inplace=True)\n",
    "df['Self_Employed'].fillna(df['Self_Employed'].mode()[0], inplace=True)"
   ]
  },
  {
   "cell_type": "code",
   "execution_count": null,
   "id": "aae36b42",
   "metadata": {},
   "outputs": [],
   "source": [
    "# Fill missing values in LoanAmount with the median\n",
    "df['LoanAmount'].fillna(df['LoanAmount'].median(), inplace=True)\n",
    "\n",
    "# Fill missing values in Loan_Amount_Term with the mode\n",
    "df['Loan_Amount_Term'].fillna(df['Loan_Amount_Term'].mode()[0], inplace=True)\n",
    "\n",
    "# Fill missing values in Credit_History with the mode\n",
    "df['Credit_History'].fillna(df['Credit_History'].mode()[0], inplace=True)"
   ]
  },
  {
   "cell_type": "code",
   "execution_count": null,
   "id": "97c339d6",
   "metadata": {},
   "outputs": [],
   "source": [
    "import plotly.express as px\n",
    "\n",
    "loan_status_count = df['Loan_Status'].value_counts()\n",
    "fig_loan_status = px.pie(loan_status_count, \n",
    "                         names=loan_status_count.index, \n",
    "                         title='Loan Approval Status')\n",
    "fig_loan_status.show()"
   ]
  },
  {
   "cell_type": "code",
   "execution_count": null,
   "id": "e91c4ff4",
   "metadata": {},
   "outputs": [],
   "source": [
    "fig_gender = px.bar(\n",
    "    df['Gender'].value_counts(),\n",
    "    title=\"Gender Distribution\",\n",
    "    text_auto=True,\n",
    "    color=df['Gender'].value_counts().index,\n",
    "    color_discrete_sequence=px.colors.qualitative.Set2\n",
    ")\n",
    "fig_gender.show()\n"
   ]
  },
  {
   "cell_type": "code",
   "execution_count": null,
   "id": "c10b7aaf",
   "metadata": {},
   "outputs": [],
   "source": [
    "fig_married = px.bar(\n",
    "    df['Married'].value_counts(),\n",
    "    title=\"Marital Status Distribution\",\n",
    "    text_auto=True,  # shows values on bars\n",
    "    color=df['Married'].value_counts().index,  # different colors\n",
    "    color_discrete_sequence=px.colors.qualitative.Set2  # nice palette\n",
    ")\n",
    "fig_married.show()\n"
   ]
  },
  {
   "cell_type": "code",
   "execution_count": null,
   "id": "a6c0fe04",
   "metadata": {},
   "outputs": [],
   "source": [
    "\n",
    "\n",
    "fig_education = px.bar(\n",
    "    df['Education'].value_counts(),\n",
    "    title=\"Education Distribution\",\n",
    "    text_auto=True,\n",
    "    color=df['Education'].value_counts().index,\n",
    "    color_discrete_sequence=px.colors.qualitative.Set2\n",
    ")\n",
    "fig_education.show()\n"
   ]
  },
  {
   "cell_type": "code",
   "execution_count": null,
   "id": "70d7322f",
   "metadata": {},
   "outputs": [],
   "source": [
    "fig_income = px.histogram(df, x='ApplicantIncome',\n",
    "                          nbins=40, title='Applicant Income Distribution',\n",
    "                          color_discrete_sequence=['#4C78A8'], opacity=0.8)\n",
    "fig_income.update_layout(bargap=0.1, plot_bgcolor='rgba(245,245,245,0.9)',\n",
    "                         xaxis_title=\"Applicant Income\", yaxis_title=\"Count\")\n",
    "fig_income.show()\n"
   ]
  },
  {
   "cell_type": "code",
   "execution_count": null,
   "id": "3c673e14",
   "metadata": {},
   "outputs": [],
   "source": [
    "fig_income = px.box(df, x='Loan_Status', y='ApplicantIncome',\n",
    "                    color='Loan_Status',\n",
    "                    title='Loan Status vs Applicant Income',\n",
    "                    color_discrete_sequence=['#4C78A8', '#E45756'])\n",
    "fig_income.update_layout(plot_bgcolor='rgba(245,245,245,0.9)',\n",
    "                         xaxis_title=\"Loan Status\", yaxis_title=\"Applicant Income\")\n",
    "fig_income.show()\n"
   ]
  },
  {
   "cell_type": "code",
   "execution_count": null,
   "id": "b0d121c1",
   "metadata": {},
   "outputs": [],
   "source": [
    "\n",
    "Q1 = df['ApplicantIncome'].quantile(0.25)\n",
    "Q3 = df['ApplicantIncome'].quantile(0.75)\n",
    "IQR = Q3 - Q1\n",
    "lower_bound = Q1 - 1.5 * IQR\n",
    "upper_bound = Q3 + 1.5 * IQR\n",
    "df = df[(df['ApplicantIncome'] >= lower_bound) & (df['ApplicantIncome'] <= upper_bound)]\n"
   ]
  },
  {
   "cell_type": "code",
   "execution_count": null,
   "id": "0490d249",
   "metadata": {},
   "outputs": [],
   "source": [
    "fig_coapplicant_income = px.box(df, \n",
    "                                x='Loan_Status', \n",
    "                                y='CoapplicantIncome',\n",
    "                                color=\"Loan_Status\", \n",
    "                                title='Loan_Status vs CoapplicantIncome')\n",
    "fig_coapplicant_income.show()"
   ]
  },
  {
   "cell_type": "code",
   "execution_count": null,
   "id": "adcbb339",
   "metadata": {},
   "outputs": [],
   "source": [
    "# Calculate the IQR\n",
    "Q1 = df['CoapplicantIncome'].quantile(0.25)\n",
    "Q3 = df['CoapplicantIncome'].quantile(0.75)\n",
    "IQR = Q3 - Q1\n",
    "\n",
    "# Define the lower and upper bounds for outliers\n",
    "lower_bound = Q1 - 1.5 * IQR\n",
    "upper_bound = Q3 + 1.5 * IQR\n",
    "\n",
    "# Remove outliers\n",
    "df = df[(df['CoapplicantIncome'] >= lower_bound) & (df['CoapplicantIncome'] <= upper_bound)]"
   ]
  },
  {
   "cell_type": "code",
   "execution_count": null,
   "id": "474059fd",
   "metadata": {},
   "outputs": [],
   "source": [
    "fig_loan_amount = px.box(df, x='Loan_Status', \n",
    "                         y='LoanAmount', \n",
    "                         color=\"Loan_Status\",\n",
    "                         title='Loan_Status vs LoanAmount')\n",
    "fig_loan_amount.show()"
   ]
  },
  {
   "cell_type": "code",
   "execution_count": null,
   "id": "6ae7b222",
   "metadata": {},
   "outputs": [],
   "source": [
    "fig_credit_history = px.histogram(df, x='Credit_History', color='Loan_Status', \n",
    "                                  barmode='group',\n",
    "                                  title='Loan_Status vs Credit_His')\n",
    "fig_credit_history.show()"
   ]
  },
  {
   "cell_type": "code",
   "execution_count": null,
   "id": "3783452a",
   "metadata": {},
   "outputs": [],
   "source": [
    "fig_property_area = px.histogram(df, x='Property_Area', color='Loan_Status', \n",
    "                                 barmode='group',\n",
    "                                title='Loan_Status vs Property_Area')\n",
    "fig_property_area.show()"
   ]
  },
  {
   "cell_type": "code",
   "execution_count": null,
   "id": "f5da1ec5",
   "metadata": {},
   "outputs": [],
   "source": [
    "# Convert categorical columns to numerical using one-hot encoding\n",
    "cat_cols = ['Gender', 'Married', 'Dependents', 'Education', 'Self_Employed', 'Property_Area']\n",
    "df = pd.get_dummies(df, columns=cat_cols)\n",
    "\n",
    "# Split the dataset into features (X) and target (y)\n",
    "X = df.drop('Loan_Status', axis=1)\n",
    "y = df['Loan_Status']\n",
    "\n",
    "# Split the data into training and testing sets\n",
    "X_train, X_test, y_train, y_test = train_test_split(X, y, test_size=0.2, random_state=42)\n",
    "\n",
    "# Scale the numerical columns using StandardScaler\n",
    "scaler = StandardScaler()\n",
    "numerical_cols = ['ApplicantIncome', 'CoapplicantIncome', 'LoanAmount', 'Loan_Amount_Term', 'Credit_History']\n",
    "X_train[numerical_cols] = scaler.fit_transform(X_train[numerical_cols])\n",
    "X_test[numerical_cols] = scaler.transform(X_test[numerical_cols])\n",
    "\n",
    "from sklearn.svm import SVC\n",
    "model = SVC(random_state=42)\n",
    "model.fit(X_train, y_train)"
   ]
  },
  {
   "cell_type": "code",
   "execution_count": null,
   "id": "a57396f7",
   "metadata": {},
   "outputs": [],
   "source": [
    "#Now let’s make predictions on the test set:\n",
    "y_pred = model.predict(X_test)\n",
    "print(y_pred)"
   ]
  },
  {
   "cell_type": "code",
   "execution_count": null,
   "id": "1768ec7f",
   "metadata": {},
   "outputs": [],
   "source": [
    "# Convert X_test to a DataFrame\n",
    "X_test_df = pd.DataFrame(X_test, columns=X_test.columns)\n",
    "\n",
    "# Add the predicted values to X_test_df\n",
    "X_test_df['Loan_Status_Predicted'] = y_pred\n",
    "print(X_test_df.head())"
   ]
  },
  {
   "cell_type": "markdown",
   "id": "64e1b1f1",
   "metadata": {},
   "source": [
    "## Summary  \n",
    "\n",
    "Loan approval prediction focuses on analyzing key factors like an applicant’s financial history, income, credit score, employment status, and other important attributes. By using historical loan data and applying machine learning techniques, we can build models that help predict whether a loan should be approved for new applicants.  \n",
    "\n",
    "This project gave me valuable insights into how data preprocessing, feature engineering, and model training all come together to solve real-world problems. I really enjoyed working on this and hope you found it helpful too. If you have any questions or thoughts, feel free to drop them in the comments!  \n"
   ]
  },
  {
   "cell_type": "code",
   "execution_count": null,
   "id": "6031fad0",
   "metadata": {},
   "outputs": [],
   "source": []
  }
 ],
 "metadata": {
  "kernelspec": {
   "display_name": "Python 3 (ipykernel)",
   "language": "python",
   "name": "python3"
  },
  "language_info": {
   "codemirror_mode": {
    "name": "ipython",
    "version": 3
   },
   "file_extension": ".py",
   "mimetype": "text/x-python",
   "name": "python",
   "nbconvert_exporter": "python",
   "pygments_lexer": "ipython3",
   "version": "3.7.11"
  }
 },
 "nbformat": 4,
 "nbformat_minor": 5
}
